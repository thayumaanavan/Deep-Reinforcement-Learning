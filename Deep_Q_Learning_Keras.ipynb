{
  "nbformat": 4,
  "nbformat_minor": 0,
  "metadata": {
    "colab": {
      "name": "Deep Q Learning-Keras.ipynb",
      "version": "0.3.2",
      "provenance": [],
      "collapsed_sections": [],
      "include_colab_link": true
    },
    "kernelspec": {
      "name": "python3",
      "display_name": "Python 3"
    }
  },
  "cells": [
    {
      "cell_type": "markdown",
      "metadata": {
        "id": "view-in-github",
        "colab_type": "text"
      },
      "source": [
        "[View in Colaboratory](https://colab.research.google.com/github/thayumaanavan/Deep-Reinforcement-Learning/blob/master/Deep_Q_Learning_Keras.ipynb)"
      ]
    },
    {
      "metadata": {
        "id": "XQvvSIWagHfx",
        "colab_type": "code",
        "colab": {
          "base_uri": "https://localhost:8080/",
          "height": 870
        },
        "outputId": "132dc9eb-4418-4e76-e8ad-d5b9b43a6320"
      },
      "cell_type": "code",
      "source": [
        "!pip install gym"
      ],
      "execution_count": 1,
      "outputs": [
        {
          "output_type": "stream",
          "text": [
            "Collecting gym\n",
            "  Downloading https://files.pythonhosted.org/packages/9b/50/ed4a03d2be47ffd043be2ee514f329ce45d98a30fe2d1b9c61dea5a9d861/gym-0.10.5.tar.gz (1.5MB)\n",
            "Requirement already satisfied: numpy>=1.10.4 in c:\\users\\chitrara\\appdata\\local\\continuum\\anaconda2\\envs\\tensorflow\\lib\\site-packages (from gym)\n",
            "Collecting requests>=2.0 (from gym)\n",
            "  Downloading https://files.pythonhosted.org/packages/65/47/7e02164a2a3db50ed6d8a6ab1d6d60b69c4c3fdf57a284257925dfc12bda/requests-2.19.1-py2.py3-none-any.whl (91kB)\n",
            "Requirement already satisfied: six in c:\\users\\chitrara\\appdata\\local\\continuum\\anaconda2\\envs\\tensorflow\\lib\\site-packages (from gym)\n",
            "Collecting pyglet>=1.2.0 (from gym)\n",
            "  Downloading https://files.pythonhosted.org/packages/1c/fc/dad5eaaab68f0c21e2f906a94ddb98175662cc5a654eee404d59554ce0fa/pyglet-1.3.2-py2.py3-none-any.whl (1.0MB)\n",
            "Collecting idna<2.8,>=2.5 (from requests>=2.0->gym)\n",
            "  Downloading https://files.pythonhosted.org/packages/4b/2a/0276479a4b3caeb8a8c1af2f8e4355746a97fab05a372e4a2c6a6b876165/idna-2.7-py2.py3-none-any.whl (58kB)\n",
            "Collecting certifi>=2017.4.17 (from requests>=2.0->gym)\n",
            "  Downloading https://files.pythonhosted.org/packages/7c/e6/92ad559b7192d846975fc916b65f667c7b8c3a32bea7372340bfe9a15fa5/certifi-2018.4.16-py2.py3-none-any.whl (150kB)\n",
            "Collecting urllib3<1.24,>=1.21.1 (from requests>=2.0->gym)\n",
            "  Downloading https://files.pythonhosted.org/packages/bd/c9/6fdd990019071a4a32a5e7cb78a1d92c53851ef4f56f62a3486e6a7d8ffb/urllib3-1.23-py2.py3-none-any.whl (133kB)\n",
            "Collecting chardet<3.1.0,>=3.0.2 (from requests>=2.0->gym)\n",
            "  Downloading https://files.pythonhosted.org/packages/bc/a9/01ffebfb562e4274b6487b4bb1ddec7ca55ec7510b22e4c51f14098443b8/chardet-3.0.4-py2.py3-none-any.whl (133kB)\n",
            "Collecting future (from pyglet>=1.2.0->gym)\n",
            "  Downloading https://files.pythonhosted.org/packages/00/2b/8d082ddfed935f3608cc61140df6dcbf0edea1bc3ab52fb6c29ae3e81e85/future-0.16.0.tar.gz (824kB)\n",
            "Building wheels for collected packages: gym, future\n",
            "  Running setup.py bdist_wheel for gym: started\n",
            "  Running setup.py bdist_wheel for gym: finished with status 'done'\n",
            "  Stored in directory: C:\\Users\\chitrara\\AppData\\Local\\pip\\Cache\\wheels\\cb\\14\\71\\f4ab006b1e6ff75c2b54985c2f98d0644fffe9c1dddc670925\n",
            "  Running setup.py bdist_wheel for future: started\n",
            "  Running setup.py bdist_wheel for future: finished with status 'done'\n",
            "  Stored in directory: C:\\Users\\chitrara\\AppData\\Local\\pip\\Cache\\wheels\\bf\\c9\\a3\\c538d90ef17cf7823fa51fc701a7a7a910a80f6a405bf15b1a\n",
            "Successfully built gym future\n",
            "Installing collected packages: idna, certifi, urllib3, chardet, requests, future, pyglet, gym\n",
            "  Found existing installation: certifi 2016.2.28\n",
            "    Uninstalling certifi-2016.2.28:\n",
            "      Successfully uninstalled certifi-2016.2.28\n",
            "Successfully installed certifi-2018.4.16 chardet-3.0.4 future-0.16.0 gym-0.10.5 idna-2.7 pyglet-1.3.2 requests-2.19.1 urllib3-1.23\n"
          ],
          "name": "stdout"
        },
        {
          "output_type": "stream",
          "text": [
            "  Cache entry deserialization failed, entry ignored\n",
            "  Cache entry deserialization failed, entry ignored\n",
            "  Cache entry deserialization failed, entry ignored\n",
            "  Cache entry deserialization failed, entry ignored\n",
            "  Cache entry deserialization failed, entry ignored\n",
            "  Cache entry deserialization failed, entry ignored\n",
            "  Cache entry deserialization failed, entry ignored\n",
            "  Cache entry deserialization failed, entry ignored\n",
            "  Cache entry deserialization failed, entry ignored\n",
            "  Cache entry deserialization failed, entry ignored\n",
            "  Cache entry deserialization failed, entry ignored\n",
            "  Cache entry deserialization failed, entry ignored\n",
            "  Cache entry deserialization failed, entry ignored\n",
            "  Cache entry deserialization failed, entry ignored\n",
            "  Cache entry deserialization failed, entry ignored\n",
            "  Cache entry deserialization failed, entry ignored\n",
            "You are using pip version 9.0.1, however version 10.0.1 is available.\n",
            "You should consider upgrading via the 'python -m pip install --upgrade pip' command.\n"
          ],
          "name": "stderr"
        }
      ]
    },
    {
      "metadata": {
        "id": "aRIMDh8uS97k",
        "colab_type": "code",
        "colab": {
          "base_uri": "https://localhost:8080/",
          "height": 530
        },
        "outputId": "b85b6e72-fa8a-4677-a601-939669b086c3"
      },
      "cell_type": "code",
      "source": [
        "!pip install keras\n",
        "from keras.models import Sequential      # One layer after the other\n",
        "from keras.layers import Dense, Flatten  # Dense layers are fully connected layers, Flatten layers flatten out multidimensional inputs\n",
        "from collections import deque            # For storing moves \n",
        "\n",
        "import numpy as np\n",
        "import gym                                # To train our network\n",
        "env = gym.make('MountainCar-v0')          # Choose game (any in the gym should work)\n",
        "\n",
        "import random     # For sampling batches from the observations"
      ],
      "execution_count": 4,
      "outputs": [
        {
          "output_type": "stream",
          "text": [
            "Collecting keras\n",
            "  Downloading https://files.pythonhosted.org/packages/68/12/4cabc5c01451eb3b413d19ea151f36e33026fc0efb932bf51bcaf54acbf5/Keras-2.2.0-py2.py3-none-any.whl (300kB)\n",
            "Collecting keras-applications==1.0.2 (from keras)\n",
            "  Downloading https://files.pythonhosted.org/packages/e2/60/c557075e586e968d7a9c314aa38c236b37cb3ee6b37e8d57152b1a5e0b47/Keras_Applications-1.0.2-py2.py3-none-any.whl (43kB)\n",
            "Requirement already satisfied: six>=1.9.0 in c:\\users\\chitrara\\appdata\\local\\continuum\\anaconda2\\envs\\tensorflow\\lib\\site-packages (from keras)\n",
            "Collecting scipy>=0.14 (from keras)\n",
            "  Downloading https://files.pythonhosted.org/packages/84/fc/f0adfaea340732ff25ccba17d1dd6fcc81fda302dbf31212ef7395463720/scipy-1.1.0-cp35-none-win_amd64.whl (31.1MB)\n",
            "Collecting keras-preprocessing==1.0.1 (from keras)\n",
            "  Downloading https://files.pythonhosted.org/packages/f8/33/275506afe1d96b221f66f95adba94d1b73f6b6087cfb6132a5655b6fe338/Keras_Preprocessing-1.0.1-py2.py3-none-any.whl\n",
            "Collecting pyyaml (from keras)\n",
            "  Downloading https://files.pythonhosted.org/packages/ad/d4/d895fb7ac1b0828151b829a32cefc8a8b58b4499570520b91af20982b880/PyYAML-3.13-cp35-cp35m-win_amd64.whl (205kB)\n",
            "Collecting h5py (from keras)\n",
            "  Downloading https://files.pythonhosted.org/packages/d0/2c/4572e2e495341e667c89b490ad18ea71a5f9e9fafca06109a9c7db22848b/h5py-2.8.0-cp35-cp35m-win_amd64.whl (2.3MB)\n",
            "Requirement already satisfied: numpy>=1.9.1 in c:\\users\\chitrara\\appdata\\local\\continuum\\anaconda2\\envs\\tensorflow\\lib\\site-packages (from keras)\n",
            "Installing collected packages: h5py, keras-applications, scipy, keras-preprocessing, pyyaml, keras\n",
            "Successfully installed h5py-2.8.0 keras-2.2.0 keras-applications-1.0.2 keras-preprocessing-1.0.1 pyyaml-3.13 scipy-1.1.0\n"
          ],
          "name": "stdout"
        },
        {
          "output_type": "stream",
          "text": [
            "  Cache entry deserialization failed, entry ignored\n",
            "  Cache entry deserialization failed, entry ignored\n",
            "  Cache entry deserialization failed, entry ignored\n",
            "  Cache entry deserialization failed, entry ignored\n",
            "  Cache entry deserialization failed, entry ignored\n",
            "  Cache entry deserialization failed, entry ignored\n",
            "  Cache entry deserialization failed, entry ignored\n",
            "  Cache entry deserialization failed, entry ignored\n",
            "  Cache entry deserialization failed, entry ignored\n",
            "You are using pip version 9.0.1, however version 10.0.1 is available.\n",
            "You should consider upgrading via the 'python -m pip install --upgrade pip' command.\n",
            "Using TensorFlow backend.\n"
          ],
          "name": "stderr"
        },
        {
          "output_type": "stream",
          "text": [
            "\u001b[33mWARN: gym.spaces.Box autodetected dtype as <class 'numpy.float32'>. Please provide explicit dtype.\u001b[0m\n"
          ],
          "name": "stdout"
        }
      ]
    },
    {
      "metadata": {
        "id": "QNsVue_OTZJF",
        "colab_type": "code",
        "colab": {
          "base_uri": "https://localhost:8080/",
          "height": 17
        },
        "outputId": "21f3f431-0e9e-4529-eb07-728952eb8862"
      },
      "cell_type": "code",
      "source": [
        "model = Sequential()\n",
        "model.add(Dense(20, input_shape=(2,) + env.observation_space.shape, kernel_initializer='uniform', activation='relu'))\n",
        "model.add(Flatten())\n",
        "model.add(Dense(18, kernel_initializer='uniform', activation = 'relu'))\n",
        "model.add(Dense(10, kernel_initializer='uniform', activation = 'relu'))\n",
        "model.add(Dense(env.action_space.n, kernel_initializer='uniform', activation='linear'))\n",
        "\n",
        "model.compile(loss='mse', optimizer='adam', metrics=['accuracy'])\n",
        "\n",
        "D = deque()\n",
        "\n",
        "observetime = 10000\n",
        "epsilon = 0.2\n",
        "gamma = 0.9\n",
        "mb_size = 1000\n"
      ],
      "execution_count": 27,
      "outputs": []
    },
    {
      "metadata": {
        "id": "5egkXi0ef9UD",
        "colab_type": "code",
        "colab": {
          "base_uri": "https://localhost:8080/",
          "height": 34
        },
        "outputId": "fac9ba77-67a5-4351-f58c-760b3faf2981"
      },
      "cell_type": "code",
      "source": [
        "observation = env.reset()\n",
        "obs = np.expand_dims(observation, axis=0)\n",
        "state = np.stack((obs,obs), axis=1)\n",
        "done = False\n",
        "\n",
        "for t in range(observetime):\n",
        "  env.render()\n",
        "  if np.random.rand() <= epsilon:\n",
        "    action = np.random.randint(0, env.action_space.n, size=1)[0]\n",
        "  else:\n",
        "    Q = model.predict(state)\n",
        "    action = np.argmax(Q)\n",
        "  \n",
        "  observation_new, reward, done, info = env.step(action)\n",
        "  obs_new = np.expand_dims(observation_new, axis=0)\n",
        "  state_new = np.append(np.expand_dims(obs_new, axis=0), state[:,:1,:], axis=1)\n",
        "  D.append((state, action, reward, state_new, done))\n",
        "  \n",
        "  state = state_new\n",
        "  if done:\n",
        "    env.reset()\n",
        "    obs = np.expand_dims(observation,axis=0)\n",
        "    state = np.stack((obs,obs), axis=1)\n",
        " \n",
        "print(\"Observing Finished\") "
      ],
      "execution_count": 28,
      "outputs": [
        {
          "output_type": "stream",
          "text": [
            "Observing Finished\n"
          ],
          "name": "stdout"
        }
      ]
    },
    {
      "metadata": {
        "id": "Iv_L4yyVikT-",
        "colab_type": "code",
        "colab": {
          "base_uri": "https://localhost:8080/",
          "height": 34
        },
        "outputId": "60088550-2f7d-449d-a06a-e48ee97ca165"
      },
      "cell_type": "code",
      "source": [
        "minibatch = random.sample(D, mb_size)\n",
        "\n",
        "input_shape = (mb_size, ) + state.shape[1:]\n",
        "inputs = np.zeros(input_shape)\n",
        "targets = np.zeros((mb_size, env.action_space.n))\n",
        "\n",
        "for i in range(0,mb_size):\n",
        "  state = minibatch[i][0]\n",
        "  action = minibatch[i][1]\n",
        "  reward = minibatch[i][2]\n",
        "  state_new = minibatch[i][3]\n",
        "  done = minibatch[i][4]\n",
        "  \n",
        "  inputs[i:i+1] = np.expand_dims(state, axis=0)\n",
        "  targets[i] = model.predict(state)\n",
        "  Q_sa = model.predict(state_new)\n",
        "  \n",
        "  if done:\n",
        "    targets[i, action] = reward\n",
        "  else:\n",
        "    targets[i, action] = reward + gamma * np.max(Q_sa)\n",
        "  \n",
        "  \n",
        "  model.train_on_batch(inputs, targets)\n",
        "\n",
        "print(\"Learning Finished\")"
      ],
      "execution_count": 29,
      "outputs": [
        {
          "output_type": "stream",
          "text": [
            "Learning Finished\n"
          ],
          "name": "stdout"
        }
      ]
    },
    {
      "metadata": {
        "id": "iuChWz3rkngt",
        "colab_type": "code",
        "colab": {
          "base_uri": "https://localhost:8080/",
          "height": 34
        },
        "outputId": "0c5cb34b-4a82-4cc7-b998-c65d9f8d54c7"
      },
      "cell_type": "code",
      "source": [
        "observation = env.reset()\n",
        "obs = np.expand_dims(observation, axis=0)\n",
        "state = np.stack((obs,obs), axis =1)\n",
        "done = False\n",
        "total_rewards = 0.0\n",
        "\n",
        "while not done:\n",
        "  env.render()\n",
        "  Q = model.predict(state)\n",
        "  action = np.argmax(Q)\n",
        "  observation, reward, done, info = env.step(action)\n",
        "  obs = np.expand_dims(observation, axis=0)\n",
        "  state = np.append(np.expand_dims(obs, axis=0), state[:,:1,:], axis=1)\n",
        "  total_rewards += reward\n",
        "print('Game Ended... Rewards:'+ str(retotal_rewardsward))  "
      ],
      "execution_count": 31,
      "outputs": [
        {
          "output_type": "stream",
          "text": [
            "Game Ended... Rewards:-200.0\n"
          ],
          "name": "stdout"
        }
      ]
    }
  ]
}